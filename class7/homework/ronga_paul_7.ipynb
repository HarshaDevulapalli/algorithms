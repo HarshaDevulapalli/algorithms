{
 "cells": [
  {
   "cell_type": "markdown",
   "metadata": {},
   "source": [
    "## We covered a lot of information today and I'd like you to practice developing classification trees on your own. For each exercise, work through the problem, determine the result, and provide the requested interpretation in comments along with the code. The point is to build classifiers, not necessarily good classifiers (that will hopefully come later)"
   ]
  },
  {
   "cell_type": "markdown",
   "metadata": {},
   "source": [
    "### 1. Load the iris dataset and create a holdout set that is 50% of the data (50% in training and 50% in test). Output the results (don't worry about creating the tree visual unless you'd like to) and discuss them briefly (are they good or not?)"
   ]
  },
  {
   "cell_type": "code",
   "execution_count": 1,
   "metadata": {
    "collapsed": true
   },
   "outputs": [],
   "source": [
    "from sklearn import datasets, tree, metrics\n",
    "from sklearn.cross_validation import train_test_split\n",
    "import numpy as np\n",
    "\n",
    "dt = tree.DecisionTreeClassifier()\n",
    "\n",
    "iris = datasets.load_iris()\n",
    "x = iris.data[:,2:]\n",
    "y = iris.target"
   ]
  },
  {
   "cell_type": "code",
   "execution_count": 2,
   "metadata": {
    "collapsed": false
   },
   "outputs": [
    {
     "name": "stdout",
     "output_type": "stream",
     "text": [
      "50%-50%\n",
      "Accuracy:0.947 \n",
      "Classification report:\n",
      "             precision    recall  f1-score   support\n",
      "\n",
      "          0       1.00      1.00      1.00        24\n",
      "          1       0.96      0.89      0.92        27\n",
      "          2       0.88      0.96      0.92        24\n",
      "\n",
      "avg / total       0.95      0.95      0.95        75\n",
      " \n",
      "\n",
      "[[24  0  0]\n",
      " [ 0 24  3]\n",
      " [ 0  1 23]] \n",
      "\n"
     ]
    }
   ],
   "source": [
    "# 50% - 50%\n",
    "\n",
    "x_train, x_test, y_train, y_test = train_test_split(x,y,test_size=0.5,train_size=0.5)\n",
    "dt = dt.fit(x_train,y_train)\n",
    "\n",
    "y_pred=dt.predict(x_test)\n",
    "print(\"50%-50%\")\n",
    "print(\"Accuracy:{0:.3f}\".format(metrics.accuracy_score(y_test, y_pred)),\"\\nClassification report:\")\n",
    "print(metrics.classification_report(y_test,y_pred),\"\\n\")\n",
    "print(metrics.confusion_matrix(y_test,y_pred),\"\\n\")"
   ]
  },
  {
   "cell_type": "markdown",
   "metadata": {},
   "source": [
    "### 2. Redo the model with a 75% - 25% training/test split and compare the results. Are they better or worse than before? Discuss why this may be."
   ]
  },
  {
   "cell_type": "code",
   "execution_count": 3,
   "metadata": {
    "collapsed": true
   },
   "outputs": [],
   "source": [
    "x_train, x_test, y_train, y_test = train_test_split(x,y,test_size=0.75,train_size=0.25)\n",
    "dt = dt.fit(x_train,y_train)"
   ]
  },
  {
   "cell_type": "code",
   "execution_count": 4,
   "metadata": {
    "collapsed": false
   },
   "outputs": [
    {
     "name": "stdout",
     "output_type": "stream",
     "text": [
      "75%-25%\n",
      "Accuracy:0.965 \n",
      "\n",
      "             precision    recall  f1-score   support\n",
      "\n",
      "          0       1.00      1.00      1.00        37\n",
      "          1       0.93      0.98      0.95        41\n",
      "          2       0.97      0.91      0.94        35\n",
      "\n",
      "avg / total       0.97      0.96      0.96       113\n",
      " \n",
      "Classification report:\n",
      "[[37  0  0]\n",
      " [ 0 40  1]\n",
      " [ 0  3 32]] \n",
      "\n"
     ]
    }
   ],
   "source": [
    "y_pred=dt.predict(x_test)\n",
    "print(\"75%-25%\")\n",
    "print(\"Accuracy:{0:.3f}\".format(metrics.accuracy_score(y_test, y_pred)),\"\\n\")\n",
    "print(metrics.classification_report(y_test,y_pred),\"\\nClassification report:\")\n",
    "print(metrics.confusion_matrix(y_test,y_pred),\"\\n\")"
   ]
  },
  {
   "cell_type": "markdown",
   "metadata": {},
   "source": [
    "---\n",
    "\n",
    "** Comment **\n",
    "\n",
    "* Maybe the 75-25 model is overfitting\n",
    "\n",
    "* Maybe reducing the test set increase the chances of having a high proportion of outliers in this set\n",
    "\n",
    "---"
   ]
  },
  {
   "cell_type": "markdown",
   "metadata": {},
   "source": [
    "### 3. Load the breast cancer dataset (`datasets.load_breast_cancer()`) and perform basic exploratory analysis. What attributes to we have? What are we trying to predict?\n",
    "For context of the data, see the documentation here: https://archive.ics.uci.edu/ml/datasets/Breast+Cancer+Wisconsin+%28Diagnostic%29"
   ]
  },
  {
   "cell_type": "code",
   "execution_count": 5,
   "metadata": {
    "collapsed": false
   },
   "outputs": [],
   "source": [
    "cancer = datasets.load_breast_cancer()"
   ]
  },
  {
   "cell_type": "code",
   "execution_count": 6,
   "metadata": {
    "collapsed": false
   },
   "outputs": [
    {
     "name": "stdout",
     "output_type": "stream",
     "text": [
      "Here are the attributes we have:\n",
      "                  Min     Max\n",
      "    ===================================== ======= ========\n",
      "    radius (mean):                         6.981   28.11\n",
      "    texture (mean):                        9.71    39.28\n",
      "    perimeter (mean):                      43.79   188.5\n",
      "    area (mean):                           143.5   2501.0\n",
      "    smoothness (mean):                     0.053   0.163\n",
      "    compactness (mean):                    0.019   0.345\n",
      "    concavity (mean):                      0.0     0.427\n",
      "    concave points (mean):                 0.0     0.201\n",
      "    symmetry (mean):                       0.106   0.304\n",
      "    fractal dimension (mean):              0.05    0.097\n",
      "    radius (standard error):               0.112   2.873\n",
      "    texture (standard error):              0.36    4.885\n",
      "    perimeter (standard error):            0.757   21.98\n",
      "    area (standard error):                 6.802   542.2\n",
      "    smoothness (standard error):           0.002   0.031\n",
      "    compactness (standard error):          0.002   0.135\n",
      "    concavity (standard error):            0.0     0.396\n",
      "    concave points (standard error):       0.0     0.053\n",
      "    symmetry (standard error):             0.008   0.079\n",
      "    fractal dimension (standard error):    0.001   0.03\n",
      "    radius (worst):                        7.93    36.04\n",
      "    texture (worst):                       12.02   49.54\n",
      "    perimeter (worst):                     50.41   251.2\n",
      "    area (worst):                          185.2   4254.0\n",
      "    smoothness (worst):                    0.071   0.223\n",
      "    compactness (worst):                   0.027   1.058\n",
      "    concavity (worst):                     0.0     1.252\n",
      "    concave points (worst):                0.0     0.291\n",
      "    symmetry (worst):                      0.156   0.664\n",
      "    fractal dimension (worst):             0.055   0.208\n",
      "    ===================================== ======= ========\n"
     ]
    }
   ],
   "source": [
    "print(\"Here are the attributes we have:\\n\", cancer['DESCR'][1200:3057])"
   ]
  },
  {
   "cell_type": "code",
   "execution_count": 7,
   "metadata": {
    "collapsed": false
   },
   "outputs": [
    {
     "name": "stdout",
     "output_type": "stream",
     "text": [
      "Here's the a sample of these 32 attributes (first data row):\n",
      "122.8 1001.0 0.1184 0.2776 0.3001 0.1471 0.2419 0.07871 1.095 0.9053 8.589 153.4 0.006399 0.04904 0.05373 0.01587 0.03003 0.006193 25.38 17.33 184.6 2019.0 0.1622 0.6656 0.7119 0.2654 0.4601 0.1189\n",
      "We're trying to predict if a subject has cancer or not. Here is a sample of the targets: [1 1 0 0 0 0 0 0 0 0]\n"
     ]
    }
   ],
   "source": [
    "x = cancer.data[:,2:] # the attributes\n",
    "y = cancer.target # the target variable\n",
    "example_data = [i for i in x[0]]\n",
    "print(\"Here's the a sample of these 32 attributes (first data row):\")\n",
    "print(*example_data)\n",
    "print(\"We're trying to predict if a subject has cancer or not. Here is a sample of the targets:\", y[20:30])"
   ]
  },
  {
   "cell_type": "code",
   "execution_count": null,
   "metadata": {
    "collapsed": true
   },
   "outputs": [],
   "source": []
  },
  {
   "cell_type": "code",
   "execution_count": null,
   "metadata": {
    "collapsed": true
   },
   "outputs": [],
   "source": []
  },
  {
   "cell_type": "markdown",
   "metadata": {},
   "source": [
    "### 4. Using the breast cancer data, create a classifier to predict the type of seed. Perform the above hold out evaluation (50-50 and 75-25) and discuss the results."
   ]
  },
  {
   "cell_type": "code",
   "execution_count": 8,
   "metadata": {
    "collapsed": true
   },
   "outputs": [],
   "source": [
    "x_train, x_test, y_train, y_test = train_test_split(x,y,test_size=0.5,train_size=0.5)\n",
    "dt = dt.fit(x_train,y_train)"
   ]
  },
  {
   "cell_type": "code",
   "execution_count": 9,
   "metadata": {
    "collapsed": false
   },
   "outputs": [
    {
     "name": "stdout",
     "output_type": "stream",
     "text": [
      "50%-50%\n",
      "Accuracy:0.909 \n",
      "Classification report:\n",
      "             precision    recall  f1-score   support\n",
      "\n",
      "          0       0.88      0.88      0.88       105\n",
      "          1       0.93      0.93      0.93       180\n",
      "\n",
      "avg / total       0.91      0.91      0.91       285\n",
      " \n",
      "\n",
      "[[ 92  13]\n",
      " [ 13 167]] \n",
      "\n"
     ]
    }
   ],
   "source": [
    "y_pred=dt.predict(x_test)\n",
    "print(\"50%-50%\")\n",
    "print(\"Accuracy:{0:.3f}\".format(metrics.accuracy_score(y_test, y_pred)),\"\\nClassification report:\")\n",
    "print(metrics.classification_report(y_test,y_pred),\"\\n\")\n",
    "print(metrics.confusion_matrix(y_test,y_pred),\"\\n\")"
   ]
  },
  {
   "cell_type": "code",
   "execution_count": 10,
   "metadata": {
    "collapsed": true
   },
   "outputs": [],
   "source": [
    "x_train, x_test, y_train, y_test = train_test_split(x,y,test_size=0.75,train_size=0.25)\n",
    "dt = dt.fit(x_train,y_train)"
   ]
  },
  {
   "cell_type": "code",
   "execution_count": 11,
   "metadata": {
    "collapsed": false
   },
   "outputs": [
    {
     "name": "stdout",
     "output_type": "stream",
     "text": [
      "75%-25%\n",
      "Accuracy:0.916 \n",
      "Classification report:\n",
      "             precision    recall  f1-score   support\n",
      "\n",
      "          0       0.89      0.89      0.89       161\n",
      "          1       0.93      0.93      0.93       266\n",
      "\n",
      "avg / total       0.92      0.92      0.92       427\n",
      " \n",
      "\n",
      "[[143  18]\n",
      " [ 18 248]] \n",
      "\n"
     ]
    }
   ],
   "source": [
    "y_pred=dt.predict(x_test)\n",
    "print(\"75%-25%\")\n",
    "print(\"Accuracy:{0:.3f}\".format(metrics.accuracy_score(y_test, y_pred)),\"\\nClassification report:\")\n",
    "print(metrics.classification_report(y_test,y_pred),\"\\n\")\n",
    "print(metrics.confusion_matrix(y_test,y_pred),\"\\n\")"
   ]
  },
  {
   "cell_type": "code",
   "execution_count": null,
   "metadata": {
    "collapsed": true
   },
   "outputs": [],
   "source": []
  }
 ],
 "metadata": {
  "kernelspec": {
   "display_name": "Python 3",
   "language": "python",
   "name": "python3"
  },
  "language_info": {
   "codemirror_mode": {
    "name": "ipython",
    "version": 3
   },
   "file_extension": ".py",
   "mimetype": "text/x-python",
   "name": "python",
   "nbconvert_exporter": "python",
   "pygments_lexer": "ipython3",
   "version": "3.5.1"
  },
  "widgets": {
   "state": {},
   "version": "1.1.2"
  }
 },
 "nbformat": 4,
 "nbformat_minor": 0
}
