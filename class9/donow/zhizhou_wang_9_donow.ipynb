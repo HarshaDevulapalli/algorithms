{
 "cells": [
  {
   "cell_type": "markdown",
   "metadata": {},
   "source": [
    "## Do now"
   ]
  },
  {
   "cell_type": "code",
   "execution_count": 9,
   "metadata": {
    "collapsed": false
   },
   "outputs": [],
   "source": [
    "comic={\n",
    "    \"hairlength\" : 8,\n",
    "    \"weight\" : 290,\n",
    "    \"age\" : 39\n",
    "}\n",
    "\n",
    "def simpson(d):\n",
    "    if 0 < d['weight'] <= 160:\n",
    "        d['class'] = \"female\"\n",
    "        return \"female\"\n",
    "    elif d['weight'] > 160:\n",
    "        d['class'] = \"male\"\n",
    "        return \"male\"\n",
    "    else:\n",
    "        return \"You're entering the wrong weight, try again!\""
   ]
  },
  {
   "cell_type": "code",
   "execution_count": 11,
   "metadata": {
    "collapsed": false
   },
   "outputs": [
    {
     "data": {
      "text/plain": [
       "'male'"
      ]
     },
     "execution_count": 11,
     "metadata": {},
     "output_type": "execute_result"
    }
   ],
   "source": [
    "simpson(comic)\n",
    "comic['class']"
   ]
  },
  {
   "cell_type": "code",
   "execution_count": null,
   "metadata": {
    "collapsed": true
   },
   "outputs": [],
   "source": []
  }
 ],
 "metadata": {
  "kernelspec": {
   "display_name": "Python 3",
   "language": "python",
   "name": "python3"
  },
  "language_info": {
   "codemirror_mode": {
    "name": "ipython",
    "version": 3
   },
   "file_extension": ".py",
   "mimetype": "text/x-python",
   "name": "python",
   "nbconvert_exporter": "python",
   "pygments_lexer": "ipython3",
   "version": "3.5.1"
  }
 },
 "nbformat": 4,
 "nbformat_minor": 0
}
