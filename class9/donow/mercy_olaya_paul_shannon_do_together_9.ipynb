{
 "cells": [
  {
   "cell_type": "code",
   "execution_count": 1,
   "metadata": {
    "collapsed": true
   },
   "outputs": [],
   "source": [
    "from sklearn import datasets\n",
    "iris = datasets.load_iris() # load iris data set"
   ]
  },
  {
   "cell_type": "code",
   "execution_count": 2,
   "metadata": {
    "collapsed": true
   },
   "outputs": [],
   "source": [
    "x = iris.data[:,2:] # the attributes\n",
    "y = iris.target # the target variable"
   ]
  },
  {
   "cell_type": "code",
   "execution_count": 14,
   "metadata": {
    "collapsed": false
   },
   "outputs": [
    {
     "name": "stdout",
     "output_type": "stream",
     "text": [
      "(1.4, 0.2) -> setona\n",
      "(1.4, 0.2) -> setona\n",
      "(1.3, 0.2) -> setona\n",
      "(1.5, 0.2) -> setona\n",
      "(1.4, 0.2) -> setona\n",
      "(1.7, 0.4) -> setona\n",
      "(1.4, 0.3) -> setona\n",
      "(1.5, 0.2) -> setona\n",
      "(1.4, 0.2) -> setona\n",
      "(1.5, 0.1) -> setona\n",
      "(1.5, 0.2) -> setona\n",
      "(1.6, 0.2) -> setona\n",
      "(1.4, 0.1) -> setona\n",
      "(1.1, 0.1) -> setona\n",
      "(1.2, 0.2) -> setona\n",
      "(1.5, 0.4) -> setona\n",
      "(1.3, 0.4) -> setona\n",
      "(1.4, 0.3) -> setona\n",
      "(1.7, 0.3) -> setona\n",
      "(1.5, 0.3) -> setona\n",
      "(1.7, 0.2) -> setona\n",
      "(1.5, 0.4) -> setona\n",
      "(1.0, 0.2) -> setona\n",
      "(1.7, 0.5) -> setona\n",
      "(1.9, 0.2) -> setona\n",
      "(1.6, 0.2) -> setona\n",
      "(1.6, 0.4) -> setona\n",
      "(1.5, 0.2) -> setona\n",
      "(1.4, 0.2) -> setona\n",
      "(1.6, 0.2) -> setona\n",
      "(1.6, 0.2) -> setona\n",
      "(1.5, 0.4) -> setona\n",
      "(1.5, 0.1) -> setona\n",
      "(1.4, 0.2) -> setona\n",
      "(1.5, 0.1) -> setona\n",
      "(1.2, 0.2) -> setona\n",
      "(1.3, 0.2) -> setona\n",
      "(1.5, 0.1) -> setona\n",
      "(1.3, 0.2) -> setona\n",
      "(1.5, 0.2) -> setona\n",
      "(1.3, 0.3) -> setona\n",
      "(1.3, 0.3) -> setona\n",
      "(1.3, 0.2) -> setona\n",
      "(1.6, 0.6) -> setona\n",
      "(1.9, 0.4) -> setona\n",
      "(1.4, 0.3) -> setona\n",
      "(1.6, 0.2) -> setona\n",
      "(1.4, 0.2) -> setona\n",
      "(1.5, 0.2) -> setona\n",
      "(1.4, 0.2) -> setona\n",
      "(4.7, 1.4) -> versicolor\n",
      "(4.5, 1.5) -> versicolor\n",
      "(4.9, 1.5) -> versicolor\n",
      "(4.0, 1.3) -> versicolor\n",
      "(4.6, 1.5) -> versicolor\n",
      "(4.5, 1.3) -> versicolor\n",
      "(4.7, 1.6) -> versicolor\n",
      "(3.3, 1.0) -> versicolor\n",
      "(4.6, 1.3) -> versicolor\n",
      "(3.9, 1.4) -> versicolor\n",
      "(3.5, 1.0) -> versicolor\n",
      "(4.2, 1.5) -> versicolor\n",
      "(4.0, 1.0) -> versicolor\n",
      "(4.7, 1.4) -> versicolor\n",
      "(3.6, 1.3) -> versicolor\n",
      "(4.4, 1.4) -> versicolor\n",
      "(4.5, 1.5) -> versicolor\n",
      "(4.1, 1.0) -> versicolor\n",
      "(4.5, 1.5) -> versicolor\n",
      "(3.9, 1.1) -> versicolor\n",
      "(4.8, 1.8) -> virginica\n",
      "(4.0, 1.3) -> versicolor\n",
      "(4.9, 1.5) -> versicolor\n",
      "(4.7, 1.2) -> versicolor\n",
      "(4.3, 1.3) -> versicolor\n",
      "(4.4, 1.4) -> versicolor\n",
      "(4.8, 1.4) -> versicolor\n",
      "(5.0, 1.7) -> versicolor\n",
      "(4.5, 1.5) -> versicolor\n",
      "(3.5, 1.0) -> versicolor\n",
      "(3.8, 1.1) -> versicolor\n",
      "(3.7, 1.0) -> versicolor\n",
      "(3.9, 1.2) -> versicolor\n",
      "(5.1, 1.6) -> versicolor\n",
      "(4.5, 1.5) -> versicolor\n",
      "(4.5, 1.6) -> versicolor\n",
      "(4.7, 1.5) -> versicolor\n",
      "(4.4, 1.3) -> versicolor\n",
      "(4.1, 1.3) -> versicolor\n",
      "(4.0, 1.3) -> versicolor\n",
      "(4.4, 1.2) -> versicolor\n",
      "(4.6, 1.4) -> versicolor\n",
      "(4.0, 1.2) -> versicolor\n",
      "(3.3, 1.0) -> versicolor\n",
      "(4.2, 1.3) -> versicolor\n",
      "(4.2, 1.2) -> versicolor\n",
      "(4.2, 1.3) -> versicolor\n",
      "(4.3, 1.3) -> versicolor\n",
      "(3.0, 1.1) -> versicolor\n",
      "(4.1, 1.3) -> versicolor\n",
      "(6.0, 2.5) -> virginica\n",
      "(5.1, 1.9) -> virginica\n",
      "(5.9, 2.1) -> virginica\n",
      "(5.6, 1.8) -> virginica\n",
      "(5.8, 2.2) -> virginica\n",
      "(6.6, 2.1) -> virginica\n",
      "(4.5, 1.7) -> virginica\n",
      "(6.3, 1.8) -> virginica\n",
      "(5.8, 1.8) -> virginica\n",
      "(6.1, 2.5) -> virginica\n",
      "(5.1, 2.0) -> virginica\n",
      "(5.3, 1.9) -> virginica\n",
      "(5.5, 2.1) -> virginica\n",
      "(5.0, 2.0) -> virginica\n",
      "(5.1, 2.4) -> virginica\n",
      "(5.3, 2.3) -> virginica\n",
      "(5.5, 1.8) -> virginica\n",
      "(6.7, 2.2) -> virginica\n",
      "(6.9, 2.3) -> virginica\n",
      "(5.0, 1.5) -> virginica\n",
      "(5.7, 2.3) -> virginica\n",
      "(4.9, 2.0) -> virginica\n",
      "(6.7, 2.0) -> virginica\n",
      "(4.9, 1.8) -> virginica\n",
      "(5.7, 2.1) -> virginica\n",
      "(6.0, 1.8) -> virginica\n",
      "(4.8, 1.8) -> virginica\n",
      "(4.9, 1.8) -> virginica\n",
      "(5.6, 2.1) -> virginica\n",
      "(5.8, 1.6) -> virginica\n",
      "(6.1, 1.9) -> virginica\n",
      "(6.4, 2.0) -> virginica\n",
      "(5.6, 2.2) -> virginica\n",
      "(5.1, 1.5) -> virginica\n",
      "(5.6, 1.4) -> virginica\n",
      "(6.1, 2.3) -> virginica\n",
      "(5.6, 2.4) -> virginica\n",
      "(5.5, 1.8) -> virginica\n",
      "(4.8, 1.8) -> virginica\n",
      "(5.4, 2.1) -> virginica\n",
      "(5.6, 2.4) -> virginica\n",
      "(5.1, 2.3) -> virginica\n",
      "(5.1, 1.9) -> virginica\n",
      "(5.9, 2.3) -> virginica\n",
      "(5.7, 2.5) -> virginica\n",
      "(5.2, 2.3) -> virginica\n",
      "(5.0, 1.9) -> virginica\n",
      "(5.2, 2.0) -> virginica\n",
      "(5.4, 2.3) -> virginica\n",
      "(5.1, 1.8) -> virginica\n"
     ]
    }
   ],
   "source": [
    "def get_species(length, width):\n",
    "    species=['setona', 'versicolor', 'virginica']\n",
    "    \n",
    "    if length <= 2.45: # 1\n",
    "            return species[0]\n",
    "    else:\n",
    "        if width <= 1.75: # 2, left\n",
    "            if length <= 4.95: # 3, left\n",
    "                if width <= 1.65: # 4, left\n",
    "                    return species[1]\n",
    "                else:\n",
    "                    return species[2]\n",
    "            else:\n",
    "                if width <= 1.55: # 4, right\n",
    "                    return species[2]\n",
    "                else:\n",
    "                    if length <= 5.45: # 5\n",
    "                        return species[1]\n",
    "                    else:\n",
    "                        return species[2]\n",
    "        else: # 2, right\n",
    "            if length <= 4.85:\n",
    "                return species[2]\n",
    "            else:\n",
    "                return species[2]\n",
    "            \n",
    "for length, width in zip(x[:, 0], x[:, 1]):\n",
    "    print(\"({}, {}) -> {}\".format(length, width, get_species(length, width)))"
   ]
  },
  {
   "cell_type": "markdown",
   "metadata": {},
   "source": [
    "petal length = 4.5 cm\n",
    "petal width = 1.51 cm\n",
    "Should predict class 1 (iris versicolor)"
   ]
  },
  {
   "cell_type": "code",
   "execution_count": 15,
   "metadata": {
    "collapsed": false
   },
   "outputs": [
    {
     "data": {
      "text/plain": [
       "'versicolor'"
      ]
     },
     "execution_count": 15,
     "metadata": {},
     "output_type": "execute_result"
    }
   ],
   "source": [
    "get_species(4.5, 1.51)"
   ]
  }
 ],
 "metadata": {
  "kernelspec": {
   "display_name": "Python 3",
   "language": "python",
   "name": "python3"
  },
  "language_info": {
   "codemirror_mode": {
    "name": "ipython",
    "version": 3
   },
   "file_extension": ".py",
   "mimetype": "text/x-python",
   "name": "python",
   "nbconvert_exporter": "python",
   "pygments_lexer": "ipython3",
   "version": "3.5.1"
  },
  "widgets": {
   "state": {},
   "version": "1.1.2"
  }
 },
 "nbformat": 4,
 "nbformat_minor": 0
}
