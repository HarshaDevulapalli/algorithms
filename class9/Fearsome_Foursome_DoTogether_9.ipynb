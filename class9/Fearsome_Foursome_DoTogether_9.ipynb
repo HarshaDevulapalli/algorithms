{
 "cells": [
  {
   "cell_type": "code",
   "execution_count": 5,
   "metadata": {
    "collapsed": true
   },
   "outputs": [],
   "source": [
    "def iris_predictor(petal_length, petal_width):\n",
    "    if petal_width <= 2.45:\n",
    "        return \"Class 1\"\n",
    "    if petal_length <= 1.75:\n",
    "        if petal_width <= 4.85:\n",
    "            return \"Class 3\"\n",
    "        if petal_width <= 4.95:\n",
    "            if petal_length <= 1.65:\n",
    "                return \"Class 2\"\n",
    "            if petal_length <= 1.55:\n",
    "                return \"Class 3\""
   ]
  },
  {
   "cell_type": "code",
   "execution_count": 6,
   "metadata": {
    "collapsed": false
   },
   "outputs": [
    {
     "data": {
      "text/plain": [
       "'Class 1'"
      ]
     },
     "execution_count": 6,
     "metadata": {},
     "output_type": "execute_result"
    }
   ],
   "source": [
    "iris_predictor(4.5, 1.51)"
   ]
  },
  {
   "cell_type": "code",
   "execution_count": null,
   "metadata": {
    "collapsed": true
   },
   "outputs": [],
   "source": []
  }
 ],
 "metadata": {
  "kernelspec": {
   "display_name": "Python 3",
   "language": "python",
   "name": "python3"
  },
  "language_info": {
   "codemirror_mode": {
    "name": "ipython",
    "version": 3
   },
   "file_extension": ".py",
   "mimetype": "text/x-python",
   "name": "python",
   "nbconvert_exporter": "python",
   "pygments_lexer": "ipython3",
   "version": "3.5.1"
  }
 },
 "nbformat": 4,
 "nbformat_minor": 0
}
