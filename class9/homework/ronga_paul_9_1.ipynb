{
 "cells": [
  {
   "cell_type": "markdown",
   "metadata": {},
   "source": [
    "Use the pseudocode you came up with in class to write your own 5-fold cross-validation function that splits the data set into."
   ]
  },
  {
   "cell_type": "code",
   "execution_count": 1,
   "metadata": {
    "collapsed": false
   },
   "outputs": [],
   "source": [
    "from sklearn import datasets\n",
    "from random import shuffle\n",
    "from sklearn import tree\n",
    "from sklearn.cross_validation import cross_val_score\n",
    "from sklearn import metrics\n",
    "iris = datasets.load_iris() # load iris data set\n",
    "x = iris.data[:,2:] # the attributes\n",
    "y = iris.target # the target variable"
   ]
  },
  {
   "cell_type": "code",
   "execution_count": 2,
   "metadata": {
    "collapsed": false
   },
   "outputs": [
    {
     "name": "stdout",
     "output_type": "stream",
     "text": [
      "Testing with set 1, training with all other sets…\n",
      "Accuracy: 0.967\n",
      "\n",
      "Testing with set 2, training with all other sets…\n",
      "Accuracy: 1.000\n",
      "\n",
      "Testing with set 3, training with all other sets…\n",
      "Accuracy: 0.900\n",
      "\n",
      "Testing with set 4, training with all other sets…\n",
      "Accuracy: 0.967\n",
      "\n",
      "Testing with set 5, training with all other sets…\n",
      "Accuracy: 0.933\n",
      "\n",
      "Using the “cross_validation” module:\n",
      "Accuracy: 0.967\n",
      "Accuracy: 0.967\n",
      "Accuracy: 0.900\n",
      "Accuracy: 0.933\n",
      "Accuracy: 1.000\n"
     ]
    }
   ],
   "source": [
    "def cross_validation(attributes, target):\n",
    "    dt = tree.DecisionTreeClassifier()\n",
    "    \n",
    "    data_and_target = list(zip(attributes, target))\n",
    "    shuffle(data_and_target)\n",
    "    list_len = len(attributes)\n",
    "    len_set = list_len // 5\n",
    "    \n",
    "    # create the 5 sets\n",
    "    sets = []\n",
    "    range_5 = range(0, 5)    \n",
    "    for i in range_5:\n",
    "        sets.append(data_and_target[i*len_set:(i+1)*len_set])\n",
    "    \n",
    "    # train and test\n",
    "    for i in range_5:\n",
    "        print(\"Testing with set {}, training with all other sets…\".format(i+1))\n",
    "        training_sets = sets.copy()\n",
    "        test_set = training_sets.pop(i)\n",
    "        training_list = [i for sublist in training_sets for i in sublist]\n",
    "        \n",
    "        x_train, y_train = zip(*training_list)\n",
    "        x_test, y_test = zip(*test_set)\n",
    "\n",
    "        dt = dt.fit(attributes,target)\n",
    "        y_pred = dt.fit(x_train, y_train).predict(x_test)\n",
    "        print(\"Accuracy: {0:.3f}\\n\".format(metrics.accuracy_score(y_test, y_pred)))\n",
    "\n",
    "\n",
    "# custom function\n",
    "cross_validation(x, y)\n",
    "\n",
    "# cross_validation module\n",
    "print(\"Using the “cross_validation” module:\")\n",
    "dt = tree.DecisionTreeClassifier()\n",
    "results = cross_val_score(dt,x,y,cv=5)\n",
    "for item in results:\n",
    "    print(\"Accuracy: {0:.3f}\".format(item))"
   ]
  },
  {
   "cell_type": "code",
   "execution_count": null,
   "metadata": {
    "collapsed": true
   },
   "outputs": [],
   "source": []
  }
 ],
 "metadata": {
  "kernelspec": {
   "display_name": "Python 3",
   "language": "python",
   "name": "python3"
  },
  "language_info": {
   "codemirror_mode": {
    "name": "ipython",
    "version": 3
   },
   "file_extension": ".py",
   "mimetype": "text/x-python",
   "name": "python",
   "nbconvert_exporter": "python",
   "pygments_lexer": "ipython3",
   "version": "3.5.1"
  },
  "widgets": {
   "state": {},
   "version": "1.1.2"
  }
 },
 "nbformat": 4,
 "nbformat_minor": 0
}
