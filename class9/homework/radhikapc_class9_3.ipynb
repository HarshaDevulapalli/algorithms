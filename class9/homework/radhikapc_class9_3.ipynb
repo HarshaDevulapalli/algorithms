{
 "cells": [
  {
   "cell_type": "code",
   "execution_count": 2,
   "metadata": {
    "collapsed": true
   },
   "outputs": [],
   "source": [
    "from sklearn import preprocessing\n",
    "from sklearn import cross_validation\n",
    "from sklearn.tree import DecisionTreeClassifier\n",
    "from sklearn.feature_extraction.text import CountVectorizer"
   ]
  },
  {
   "cell_type": "markdown",
   "metadata": {
    "collapsed": true
   },
   "source": [
    "preprocess is a multi-language preprocessor\n",
    "The sklearn.preprocessing package provides several common utility functions and transformer classes to change raw feature vectors into a representation that is more suitable for the downstream estimators.\n",
    "\n",
    "sklearn(scikit-learn) package can't handle gender data because it has string (male and female inside), so need to be convered to boolean (0 and 1).\n",
    "\n",
    "In scikit-learn a random split into training and test (to avoid the cases of overfitting) sets can be quickly computed with the train_test_split helper function. "
   ]
  },
  {
   "cell_type": "code",
   "execution_count": 3,
   "metadata": {
    "collapsed": false
   },
   "outputs": [],
   "source": [
    "########## STEP 1: DATA IMPORT AND PREPROCESSING ##########\n",
    "\n",
    "# Here we're taking in the training data and splitting it into two lists: One with the text of\n",
    "# each bill title, and the second with each bill title's corresponding category. Order is important.\n",
    "# The first bill in list 1 should also be the first category in list 2.\n",
    "training = [line.strip().split('|') for line in open('bills_training.txt', 'r', encoding=\"utf8\").readlines()]\n",
    "text = [t[0] for t in training if len(t) > 1]\n",
    "labels = [t[1] for t in training if len(t) > 1]\n",
    "\n",
    "# A little bit of cleanup for scikit-learn's benefit. Scikit-learn models wants our categories to\n",
    "# be numbers, not strings. The LabelEncoder performs this transformation.\n",
    "encoder = preprocessing.LabelEncoder()\n",
    "correct_labels = encoder.fit_transform(labels)"
   ]
  },
  {
   "cell_type": "code",
   "execution_count": 4,
   "metadata": {
    "collapsed": false
   },
   "outputs": [
    {
     "data": {
      "text/plain": [
       "array([10, 31, 25, ..., 19, 19, 27], dtype=int32)"
      ]
     },
     "execution_count": 4,
     "metadata": {},
     "output_type": "execute_result"
    }
   ],
   "source": [
    "# is it a random number or number of occurrence ?\n",
    "correct_labels"
   ]
  },
  {
   "cell_type": "code",
   "execution_count": 6,
   "metadata": {
    "collapsed": false
   },
   "outputs": [],
   "source": [
    "########## STEP 2: FEATURE EXTRACTION ##########\n",
    "vectorizer = CountVectorizer(stop_words='english')\n",
    "data = vectorizer.fit_transform(text)\n"
   ]
  },
  {
   "cell_type": "code",
   "execution_count": 12,
   "metadata": {
    "collapsed": false
   },
   "outputs": [
    {
     "name": "stdout",
     "output_type": "stream",
     "text": [
      "  (0, 4986)\t1\n",
      "  (0, 5059)\t1\n",
      "  (0, 7052)\t1\n",
      "  (0, 3241)\t1\n",
      "  (0, 5719)\t1\n",
      "  (0, 5391)\t1\n",
      "  (0, 6894)\t1\n",
      "  (0, 7242)\t1\n",
      "  (1, 4986)\t1\n",
      "  (1, 7052)\t1\n",
      "  (1, 5391)\t1\n",
      "  (1, 6894)\t1\n",
      "  (1, 4995)\t1\n",
      "  (1, 4617)\t1\n",
      "  (1, 5970)\t1\n",
      "  (1, 6808)\t1\n",
      "  (1, 5933)\t1\n",
      "  (2, 4986)\t1\n",
      "  (2, 5059)\t1\n",
      "  (2, 7052)\t1\n",
      "  (2, 5391)\t1\n",
      "  (2, 6894)\t1\n",
      "  (2, 4995)\t1\n",
      "  (2, 7053)\t1\n",
      "  (2, 2036)\t1\n",
      "  :\t:\n",
      "  (5743, 6882)\t1\n",
      "  (5743, 1776)\t1\n",
      "  (5744, 6040)\t1\n",
      "  (5744, 6896)\t1\n",
      "  (5744, 6453)\t1\n",
      "  (5744, 5209)\t1\n",
      "  (5745, 6396)\t1\n",
      "  (5745, 5263)\t1\n",
      "  (5745, 5742)\t1\n",
      "  (5746, 6016)\t1\n",
      "  (5746, 5288)\t1\n",
      "  (5746, 5525)\t1\n",
      "  (5747, 6396)\t1\n",
      "  (5747, 5263)\t1\n",
      "  (5747, 5742)\t1\n",
      "  (5748, 6016)\t1\n",
      "  (5748, 5288)\t1\n",
      "  (5748, 5525)\t1\n",
      "  (5749, 948)\t1\n",
      "  (5749, 7069)\t1\n",
      "  (5749, 5829)\t1\n",
      "  (5749, 6204)\t1\n",
      "  (5749, 6896)\t1\n",
      "  (5749, 7002)\t1\n",
      "  (5749, 1776)\t1\n"
     ]
    }
   ],
   "source": [
    "# what exactly is the number corresponding to the category 0,1,2.... what's number 1 stands for which is outside the tuple\n",
    "print(data)"
   ]
  },
  {
   "cell_type": "code",
   "execution_count": 9,
   "metadata": {
    "collapsed": true
   },
   "outputs": [],
   "source": [
    "########## STEP 3: MODEL BUILDING ##########\n",
    "model = DecisionTreeClassifier()\n",
    "fit_model = model.fit(data, correct_labels)\n"
   ]
  },
  {
   "cell_type": "code",
   "execution_count": 11,
   "metadata": {
    "collapsed": false
   },
   "outputs": [
    {
     "name": "stdout",
     "output_type": "stream",
     "text": [
      "DecisionTreeClassifier(class_weight=None, criterion='gini', max_depth=None,\n",
      "            max_features=None, max_leaf_nodes=None, min_samples_leaf=1,\n",
      "            min_samples_split=2, min_weight_fraction_leaf=0.0,\n",
      "            presort=False, random_state=None, splitter='best')\n"
     ]
    }
   ],
   "source": [
    "print(fit_model)"
   ]
  },
  {
   "cell_type": "code",
   "execution_count": 10,
   "metadata": {
    "collapsed": false
   },
   "outputs": [
    {
     "name": "stderr",
     "output_type": "stream",
     "text": [
      "c:\\users\\radhika\\appdata\\local\\programs\\python\\python35-32\\lib\\site-packages\\sklearn\\cross_validation.py:516: Warning: The least populated class in y has only 1 members, which is too few. The minimum number of labels for any class cannot be less than n_folds=5.\n",
      "  % (min_labels, self.n_folds)), Warning)\n"
     ]
    },
    {
     "name": "stdout",
     "output_type": "stream",
     "text": [
      "Accuracy: 0.65 (+/- 0.05)\n"
     ]
    }
   ],
   "source": [
    "# ########## STEP 4: EVALUATION ##########\n",
    "# Evaluate our model with 10-fold cross-validation\n",
    "scores = cross_validation.cross_val_score(model, data, correct_labels, cv=5)\n",
    "print(\"Accuracy: %0.2f (+/- %0.2f)\" % (scores.mean(), scores.std() * 2))\n"
   ]
  },
  {
   "cell_type": "code",
   "execution_count": 11,
   "metadata": {
    "collapsed": false
   },
   "outputs": [
    {
     "name": "stdout",
     "output_type": "stream",
     "text": [
      "Public postsecondary education: executive officer compensation. -> ['Education']\n",
      "An act to add Section 236.3 to the Education code, related to the pricing of college textbooks. -> ['Education']\n",
      "Political Reform Act of 1974: campaign disclosures. -> ['Campaign Finance and Election Issues']\n",
      "An act to add Section 236.3 to the Penal Code, relating to human trafficking. -> ['Crime']\n"
     ]
    },
    {
     "name": "stderr",
     "output_type": "stream",
     "text": [
      "c:\\users\\radhika\\appdata\\local\\programs\\python\\python35-32\\lib\\site-packages\\sklearn\\utils\\validation.py:386: DeprecationWarning: Passing 1d arrays as data is deprecated in 0.17 and willraise ValueError in 0.19. Reshape your data either using X.reshape(-1, 1) if your data has a single feature or X.reshape(1, -1) if it contains a single sample.\n",
      "  DeprecationWarning)\n",
      "c:\\users\\radhika\\appdata\\local\\programs\\python\\python35-32\\lib\\site-packages\\sklearn\\utils\\validation.py:386: DeprecationWarning: Passing 1d arrays as data is deprecated in 0.17 and willraise ValueError in 0.19. Reshape your data either using X.reshape(-1, 1) if your data has a single feature or X.reshape(1, -1) if it contains a single sample.\n",
      "  DeprecationWarning)\n",
      "c:\\users\\radhika\\appdata\\local\\programs\\python\\python35-32\\lib\\site-packages\\sklearn\\utils\\validation.py:386: DeprecationWarning: Passing 1d arrays as data is deprecated in 0.17 and willraise ValueError in 0.19. Reshape your data either using X.reshape(-1, 1) if your data has a single feature or X.reshape(1, -1) if it contains a single sample.\n",
      "  DeprecationWarning)\n",
      "c:\\users\\radhika\\appdata\\local\\programs\\python\\python35-32\\lib\\site-packages\\sklearn\\utils\\validation.py:386: DeprecationWarning: Passing 1d arrays as data is deprecated in 0.17 and willraise ValueError in 0.19. Reshape your data either using X.reshape(-1, 1) if your data has a single feature or X.reshape(1, -1) if it contains a single sample.\n",
      "  DeprecationWarning)\n"
     ]
    }
   ],
   "source": [
    "# ########## STEP 5: APPLYING THE MODEL ##########\n",
    "docs_new = [\"Public postsecondary education: executive officer compensation.\",\n",
    "            \"An act to add Section 236.3 to the Education code, related to the pricing of college textbooks.\",\n",
    "            \"Political Reform Act of 1974: campaign disclosures.\",\n",
    "            \"An act to add Section 236.3 to the Penal Code, relating to human trafficking.\"\n",
    "        ]\n",
    "\n",
    "test_data = vectorizer.transform(docs_new)\n",
    "\n",
    "for i in range(len(docs_new)):\n",
    "    print('%s -> %s' % (docs_new[i], encoder.classes_[model.predict(test_data.toarray()[i])]))\n",
    "   "
   ]
  },
  {
   "cell_type": "code",
   "execution_count": null,
   "metadata": {
    "collapsed": true
   },
   "outputs": [],
   "source": []
  }
 ],
 "metadata": {
  "kernelspec": {
   "display_name": "Python 3",
   "language": "python",
   "name": "python3"
  },
  "language_info": {
   "codemirror_mode": {
    "name": "ipython",
    "version": 3
   },
   "file_extension": ".py",
   "mimetype": "text/x-python",
   "name": "python",
   "nbconvert_exporter": "python",
   "pygments_lexer": "ipython3",
   "version": "3.5.1"
  }
 },
 "nbformat": 4,
 "nbformat_minor": 0
}
