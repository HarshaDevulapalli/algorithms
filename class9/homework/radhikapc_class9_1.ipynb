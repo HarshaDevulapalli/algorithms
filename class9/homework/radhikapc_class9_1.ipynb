{
 "cells": [
  {
   "cell_type": "markdown",
   "metadata": {},
   "source": [
    "* Use the pseudocode you came up with in class to write your own 5-fold cross-validation function that splits the data set into\n",
    "* Don't forget to shuffle the input before assigning to the splits\n",
    "* You can use the fit\n",
    "* Test the results with the sklearn cross_val_score\n",
    "* In your PR, discuss what challenges you had creating this function and if it helped you better understand cross validation"
   ]
  },
  {
   "cell_type": "code",
   "execution_count": 6,
   "metadata": {
    "collapsed": true
   },
   "outputs": [],
   "source": [
    "import pandas as pd\n",
    "%matplotlib inline\n",
    "from sklearn import datasets\n",
    "from sklearn import tree\n",
    "import matplotlib.pyplot as plt\n",
    "import numpy as np\n",
    "from random import shuffle\n",
    "from sklearn.metrics import accuracy_score"
   ]
  },
  {
   "cell_type": "code",
   "execution_count": 2,
   "metadata": {
    "collapsed": true
   },
   "outputs": [],
   "source": [
    "iris = datasets.load_iris() # load iris data set"
   ]
  },
  {
   "cell_type": "code",
   "execution_count": 3,
   "metadata": {
    "collapsed": false
   },
   "outputs": [
    {
     "data": {
      "text/plain": [
       "dict_keys(['feature_names', 'target_names', 'DESCR', 'target', 'data'])"
      ]
     },
     "execution_count": 3,
     "metadata": {},
     "output_type": "execute_result"
    }
   ],
   "source": [
    "iris.keys()"
   ]
  },
  {
   "cell_type": "code",
   "execution_count": 4,
   "metadata": {
    "collapsed": false
   },
   "outputs": [
    {
     "data": {
      "text/plain": [
       "array(['setosa', 'versicolor', 'virginica'], \n",
       "      dtype='<U10')"
      ]
     },
     "execution_count": 4,
     "metadata": {},
     "output_type": "execute_result"
    }
   ],
   "source": [
    "iris['target_names']"
   ]
  },
  {
   "cell_type": "code",
   "execution_count": 5,
   "metadata": {
    "collapsed": false
   },
   "outputs": [
    {
     "data": {
      "text/plain": [
       "array([0, 0, 0, 0, 0, 0, 0, 0, 0, 0, 0, 0, 0, 0, 0, 0, 0, 0, 0, 0, 0, 0, 0,\n",
       "       0, 0, 0, 0, 0, 0, 0, 0, 0, 0, 0, 0, 0, 0, 0, 0, 0, 0, 0, 0, 0, 0, 0,\n",
       "       0, 0, 0, 0, 1, 1, 1, 1, 1, 1, 1, 1, 1, 1, 1, 1, 1, 1, 1, 1, 1, 1, 1,\n",
       "       1, 1, 1, 1, 1, 1, 1, 1, 1, 1, 1, 1, 1, 1, 1, 1, 1, 1, 1, 1, 1, 1, 1,\n",
       "       1, 1, 1, 1, 1, 1, 1, 1, 2, 2, 2, 2, 2, 2, 2, 2, 2, 2, 2, 2, 2, 2, 2,\n",
       "       2, 2, 2, 2, 2, 2, 2, 2, 2, 2, 2, 2, 2, 2, 2, 2, 2, 2, 2, 2, 2, 2, 2,\n",
       "       2, 2, 2, 2, 2, 2, 2, 2, 2, 2, 2, 2])"
      ]
     },
     "execution_count": 5,
     "metadata": {},
     "output_type": "execute_result"
    }
   ],
   "source": [
    "iris['target']"
   ]
  },
  {
   "cell_type": "code",
   "execution_count": 6,
   "metadata": {
    "collapsed": false
   },
   "outputs": [
    {
     "data": {
      "text/plain": [
       "array([[ 5.1,  3.5,  1.4,  0.2],\n",
       "       [ 4.9,  3. ,  1.4,  0.2],\n",
       "       [ 4.7,  3.2,  1.3,  0.2],\n",
       "       [ 4.6,  3.1,  1.5,  0.2],\n",
       "       [ 5. ,  3.6,  1.4,  0.2],\n",
       "       [ 5.4,  3.9,  1.7,  0.4],\n",
       "       [ 4.6,  3.4,  1.4,  0.3],\n",
       "       [ 5. ,  3.4,  1.5,  0.2],\n",
       "       [ 4.4,  2.9,  1.4,  0.2],\n",
       "       [ 4.9,  3.1,  1.5,  0.1],\n",
       "       [ 5.4,  3.7,  1.5,  0.2],\n",
       "       [ 4.8,  3.4,  1.6,  0.2],\n",
       "       [ 4.8,  3. ,  1.4,  0.1],\n",
       "       [ 4.3,  3. ,  1.1,  0.1],\n",
       "       [ 5.8,  4. ,  1.2,  0.2],\n",
       "       [ 5.7,  4.4,  1.5,  0.4],\n",
       "       [ 5.4,  3.9,  1.3,  0.4],\n",
       "       [ 5.1,  3.5,  1.4,  0.3],\n",
       "       [ 5.7,  3.8,  1.7,  0.3],\n",
       "       [ 5.1,  3.8,  1.5,  0.3],\n",
       "       [ 5.4,  3.4,  1.7,  0.2],\n",
       "       [ 5.1,  3.7,  1.5,  0.4],\n",
       "       [ 4.6,  3.6,  1. ,  0.2],\n",
       "       [ 5.1,  3.3,  1.7,  0.5],\n",
       "       [ 4.8,  3.4,  1.9,  0.2],\n",
       "       [ 5. ,  3. ,  1.6,  0.2],\n",
       "       [ 5. ,  3.4,  1.6,  0.4],\n",
       "       [ 5.2,  3.5,  1.5,  0.2],\n",
       "       [ 5.2,  3.4,  1.4,  0.2],\n",
       "       [ 4.7,  3.2,  1.6,  0.2],\n",
       "       [ 4.8,  3.1,  1.6,  0.2],\n",
       "       [ 5.4,  3.4,  1.5,  0.4],\n",
       "       [ 5.2,  4.1,  1.5,  0.1],\n",
       "       [ 5.5,  4.2,  1.4,  0.2],\n",
       "       [ 4.9,  3.1,  1.5,  0.1],\n",
       "       [ 5. ,  3.2,  1.2,  0.2],\n",
       "       [ 5.5,  3.5,  1.3,  0.2],\n",
       "       [ 4.9,  3.1,  1.5,  0.1],\n",
       "       [ 4.4,  3. ,  1.3,  0.2],\n",
       "       [ 5.1,  3.4,  1.5,  0.2],\n",
       "       [ 5. ,  3.5,  1.3,  0.3],\n",
       "       [ 4.5,  2.3,  1.3,  0.3],\n",
       "       [ 4.4,  3.2,  1.3,  0.2],\n",
       "       [ 5. ,  3.5,  1.6,  0.6],\n",
       "       [ 5.1,  3.8,  1.9,  0.4],\n",
       "       [ 4.8,  3. ,  1.4,  0.3],\n",
       "       [ 5.1,  3.8,  1.6,  0.2],\n",
       "       [ 4.6,  3.2,  1.4,  0.2],\n",
       "       [ 5.3,  3.7,  1.5,  0.2],\n",
       "       [ 5. ,  3.3,  1.4,  0.2],\n",
       "       [ 7. ,  3.2,  4.7,  1.4],\n",
       "       [ 6.4,  3.2,  4.5,  1.5],\n",
       "       [ 6.9,  3.1,  4.9,  1.5],\n",
       "       [ 5.5,  2.3,  4. ,  1.3],\n",
       "       [ 6.5,  2.8,  4.6,  1.5],\n",
       "       [ 5.7,  2.8,  4.5,  1.3],\n",
       "       [ 6.3,  3.3,  4.7,  1.6],\n",
       "       [ 4.9,  2.4,  3.3,  1. ],\n",
       "       [ 6.6,  2.9,  4.6,  1.3],\n",
       "       [ 5.2,  2.7,  3.9,  1.4],\n",
       "       [ 5. ,  2. ,  3.5,  1. ],\n",
       "       [ 5.9,  3. ,  4.2,  1.5],\n",
       "       [ 6. ,  2.2,  4. ,  1. ],\n",
       "       [ 6.1,  2.9,  4.7,  1.4],\n",
       "       [ 5.6,  2.9,  3.6,  1.3],\n",
       "       [ 6.7,  3.1,  4.4,  1.4],\n",
       "       [ 5.6,  3. ,  4.5,  1.5],\n",
       "       [ 5.8,  2.7,  4.1,  1. ],\n",
       "       [ 6.2,  2.2,  4.5,  1.5],\n",
       "       [ 5.6,  2.5,  3.9,  1.1],\n",
       "       [ 5.9,  3.2,  4.8,  1.8],\n",
       "       [ 6.1,  2.8,  4. ,  1.3],\n",
       "       [ 6.3,  2.5,  4.9,  1.5],\n",
       "       [ 6.1,  2.8,  4.7,  1.2],\n",
       "       [ 6.4,  2.9,  4.3,  1.3],\n",
       "       [ 6.6,  3. ,  4.4,  1.4],\n",
       "       [ 6.8,  2.8,  4.8,  1.4],\n",
       "       [ 6.7,  3. ,  5. ,  1.7],\n",
       "       [ 6. ,  2.9,  4.5,  1.5],\n",
       "       [ 5.7,  2.6,  3.5,  1. ],\n",
       "       [ 5.5,  2.4,  3.8,  1.1],\n",
       "       [ 5.5,  2.4,  3.7,  1. ],\n",
       "       [ 5.8,  2.7,  3.9,  1.2],\n",
       "       [ 6. ,  2.7,  5.1,  1.6],\n",
       "       [ 5.4,  3. ,  4.5,  1.5],\n",
       "       [ 6. ,  3.4,  4.5,  1.6],\n",
       "       [ 6.7,  3.1,  4.7,  1.5],\n",
       "       [ 6.3,  2.3,  4.4,  1.3],\n",
       "       [ 5.6,  3. ,  4.1,  1.3],\n",
       "       [ 5.5,  2.5,  4. ,  1.3],\n",
       "       [ 5.5,  2.6,  4.4,  1.2],\n",
       "       [ 6.1,  3. ,  4.6,  1.4],\n",
       "       [ 5.8,  2.6,  4. ,  1.2],\n",
       "       [ 5. ,  2.3,  3.3,  1. ],\n",
       "       [ 5.6,  2.7,  4.2,  1.3],\n",
       "       [ 5.7,  3. ,  4.2,  1.2],\n",
       "       [ 5.7,  2.9,  4.2,  1.3],\n",
       "       [ 6.2,  2.9,  4.3,  1.3],\n",
       "       [ 5.1,  2.5,  3. ,  1.1],\n",
       "       [ 5.7,  2.8,  4.1,  1.3],\n",
       "       [ 6.3,  3.3,  6. ,  2.5],\n",
       "       [ 5.8,  2.7,  5.1,  1.9],\n",
       "       [ 7.1,  3. ,  5.9,  2.1],\n",
       "       [ 6.3,  2.9,  5.6,  1.8],\n",
       "       [ 6.5,  3. ,  5.8,  2.2],\n",
       "       [ 7.6,  3. ,  6.6,  2.1],\n",
       "       [ 4.9,  2.5,  4.5,  1.7],\n",
       "       [ 7.3,  2.9,  6.3,  1.8],\n",
       "       [ 6.7,  2.5,  5.8,  1.8],\n",
       "       [ 7.2,  3.6,  6.1,  2.5],\n",
       "       [ 6.5,  3.2,  5.1,  2. ],\n",
       "       [ 6.4,  2.7,  5.3,  1.9],\n",
       "       [ 6.8,  3. ,  5.5,  2.1],\n",
       "       [ 5.7,  2.5,  5. ,  2. ],\n",
       "       [ 5.8,  2.8,  5.1,  2.4],\n",
       "       [ 6.4,  3.2,  5.3,  2.3],\n",
       "       [ 6.5,  3. ,  5.5,  1.8],\n",
       "       [ 7.7,  3.8,  6.7,  2.2],\n",
       "       [ 7.7,  2.6,  6.9,  2.3],\n",
       "       [ 6. ,  2.2,  5. ,  1.5],\n",
       "       [ 6.9,  3.2,  5.7,  2.3],\n",
       "       [ 5.6,  2.8,  4.9,  2. ],\n",
       "       [ 7.7,  2.8,  6.7,  2. ],\n",
       "       [ 6.3,  2.7,  4.9,  1.8],\n",
       "       [ 6.7,  3.3,  5.7,  2.1],\n",
       "       [ 7.2,  3.2,  6. ,  1.8],\n",
       "       [ 6.2,  2.8,  4.8,  1.8],\n",
       "       [ 6.1,  3. ,  4.9,  1.8],\n",
       "       [ 6.4,  2.8,  5.6,  2.1],\n",
       "       [ 7.2,  3. ,  5.8,  1.6],\n",
       "       [ 7.4,  2.8,  6.1,  1.9],\n",
       "       [ 7.9,  3.8,  6.4,  2. ],\n",
       "       [ 6.4,  2.8,  5.6,  2.2],\n",
       "       [ 6.3,  2.8,  5.1,  1.5],\n",
       "       [ 6.1,  2.6,  5.6,  1.4],\n",
       "       [ 7.7,  3. ,  6.1,  2.3],\n",
       "       [ 6.3,  3.4,  5.6,  2.4],\n",
       "       [ 6.4,  3.1,  5.5,  1.8],\n",
       "       [ 6. ,  3. ,  4.8,  1.8],\n",
       "       [ 6.9,  3.1,  5.4,  2.1],\n",
       "       [ 6.7,  3.1,  5.6,  2.4],\n",
       "       [ 6.9,  3.1,  5.1,  2.3],\n",
       "       [ 5.8,  2.7,  5.1,  1.9],\n",
       "       [ 6.8,  3.2,  5.9,  2.3],\n",
       "       [ 6.7,  3.3,  5.7,  2.5],\n",
       "       [ 6.7,  3. ,  5.2,  2.3],\n",
       "       [ 6.3,  2.5,  5. ,  1.9],\n",
       "       [ 6.5,  3. ,  5.2,  2. ],\n",
       "       [ 6.2,  3.4,  5.4,  2.3],\n",
       "       [ 5.9,  3. ,  5.1,  1.8]])"
      ]
     },
     "execution_count": 6,
     "metadata": {},
     "output_type": "execute_result"
    }
   ],
   "source": [
    "iris['data']"
   ]
  },
  {
   "cell_type": "code",
   "execution_count": 7,
   "metadata": {
    "collapsed": true
   },
   "outputs": [],
   "source": [
    "x = iris.data[:,2:] # the attributes\n",
    "y = iris.target # the target variable"
   ]
  },
  {
   "cell_type": "code",
   "execution_count": 8,
   "metadata": {
    "collapsed": false
   },
   "outputs": [
    {
     "name": "stdout",
     "output_type": "stream",
     "text": [
      "[ 1.4  0.2] 0\n",
      "[ 1.4  0.2] 0\n",
      "[ 1.3  0.2] 0\n",
      "[ 1.5  0.2] 0\n",
      "[ 1.4  0.2] 0\n",
      "[ 1.7  0.4] 0\n",
      "[ 1.4  0.3] 0\n",
      "[ 1.5  0.2] 0\n",
      "[ 1.4  0.2] 0\n",
      "[ 1.5  0.1] 0\n",
      "[ 1.5  0.2] 0\n",
      "[ 1.6  0.2] 0\n",
      "[ 1.4  0.1] 0\n",
      "[ 1.1  0.1] 0\n",
      "[ 1.2  0.2] 0\n",
      "[ 1.5  0.4] 0\n",
      "[ 1.3  0.4] 0\n",
      "[ 1.4  0.3] 0\n",
      "[ 1.7  0.3] 0\n",
      "[ 1.5  0.3] 0\n",
      "[ 1.7  0.2] 0\n",
      "[ 1.5  0.4] 0\n",
      "[ 1.   0.2] 0\n",
      "[ 1.7  0.5] 0\n",
      "[ 1.9  0.2] 0\n",
      "[ 1.6  0.2] 0\n",
      "[ 1.6  0.4] 0\n",
      "[ 1.5  0.2] 0\n",
      "[ 1.4  0.2] 0\n",
      "[ 1.6  0.2] 0\n",
      "[ 1.6  0.2] 0\n",
      "[ 1.5  0.4] 0\n",
      "[ 1.5  0.1] 0\n",
      "[ 1.4  0.2] 0\n",
      "[ 1.5  0.1] 0\n",
      "[ 1.2  0.2] 0\n",
      "[ 1.3  0.2] 0\n",
      "[ 1.5  0.1] 0\n",
      "[ 1.3  0.2] 0\n",
      "[ 1.5  0.2] 0\n",
      "[ 1.3  0.3] 0\n",
      "[ 1.3  0.3] 0\n",
      "[ 1.3  0.2] 0\n",
      "[ 1.6  0.6] 0\n",
      "[ 1.9  0.4] 0\n",
      "[ 1.4  0.3] 0\n",
      "[ 1.6  0.2] 0\n",
      "[ 1.4  0.2] 0\n",
      "[ 1.5  0.2] 0\n",
      "[ 1.4  0.2] 0\n",
      "[ 4.7  1.4] 1\n",
      "[ 4.5  1.5] 1\n",
      "[ 4.9  1.5] 1\n",
      "[ 4.   1.3] 1\n",
      "[ 4.6  1.5] 1\n",
      "[ 4.5  1.3] 1\n",
      "[ 4.7  1.6] 1\n",
      "[ 3.3  1. ] 1\n",
      "[ 4.6  1.3] 1\n",
      "[ 3.9  1.4] 1\n",
      "[ 3.5  1. ] 1\n",
      "[ 4.2  1.5] 1\n",
      "[ 4.  1.] 1\n",
      "[ 4.7  1.4] 1\n",
      "[ 3.6  1.3] 1\n",
      "[ 4.4  1.4] 1\n",
      "[ 4.5  1.5] 1\n",
      "[ 4.1  1. ] 1\n",
      "[ 4.5  1.5] 1\n",
      "[ 3.9  1.1] 1\n",
      "[ 4.8  1.8] 1\n",
      "[ 4.   1.3] 1\n",
      "[ 4.9  1.5] 1\n",
      "[ 4.7  1.2] 1\n",
      "[ 4.3  1.3] 1\n",
      "[ 4.4  1.4] 1\n",
      "[ 4.8  1.4] 1\n",
      "[ 5.   1.7] 1\n",
      "[ 4.5  1.5] 1\n",
      "[ 3.5  1. ] 1\n",
      "[ 3.8  1.1] 1\n",
      "[ 3.7  1. ] 1\n",
      "[ 3.9  1.2] 1\n",
      "[ 5.1  1.6] 1\n",
      "[ 4.5  1.5] 1\n",
      "[ 4.5  1.6] 1\n",
      "[ 4.7  1.5] 1\n",
      "[ 4.4  1.3] 1\n",
      "[ 4.1  1.3] 1\n",
      "[ 4.   1.3] 1\n",
      "[ 4.4  1.2] 1\n",
      "[ 4.6  1.4] 1\n",
      "[ 4.   1.2] 1\n",
      "[ 3.3  1. ] 1\n",
      "[ 4.2  1.3] 1\n",
      "[ 4.2  1.2] 1\n",
      "[ 4.2  1.3] 1\n",
      "[ 4.3  1.3] 1\n",
      "[ 3.   1.1] 1\n",
      "[ 4.1  1.3] 1\n",
      "[ 6.   2.5] 2\n",
      "[ 5.1  1.9] 2\n",
      "[ 5.9  2.1] 2\n",
      "[ 5.6  1.8] 2\n",
      "[ 5.8  2.2] 2\n",
      "[ 6.6  2.1] 2\n",
      "[ 4.5  1.7] 2\n",
      "[ 6.3  1.8] 2\n",
      "[ 5.8  1.8] 2\n",
      "[ 6.1  2.5] 2\n",
      "[ 5.1  2. ] 2\n",
      "[ 5.3  1.9] 2\n",
      "[ 5.5  2.1] 2\n",
      "[ 5.  2.] 2\n",
      "[ 5.1  2.4] 2\n",
      "[ 5.3  2.3] 2\n",
      "[ 5.5  1.8] 2\n",
      "[ 6.7  2.2] 2\n",
      "[ 6.9  2.3] 2\n",
      "[ 5.   1.5] 2\n",
      "[ 5.7  2.3] 2\n",
      "[ 4.9  2. ] 2\n",
      "[ 6.7  2. ] 2\n",
      "[ 4.9  1.8] 2\n",
      "[ 5.7  2.1] 2\n",
      "[ 6.   1.8] 2\n",
      "[ 4.8  1.8] 2\n",
      "[ 4.9  1.8] 2\n",
      "[ 5.6  2.1] 2\n",
      "[ 5.8  1.6] 2\n",
      "[ 6.1  1.9] 2\n",
      "[ 6.4  2. ] 2\n",
      "[ 5.6  2.2] 2\n",
      "[ 5.1  1.5] 2\n",
      "[ 5.6  1.4] 2\n",
      "[ 6.1  2.3] 2\n",
      "[ 5.6  2.4] 2\n",
      "[ 5.5  1.8] 2\n",
      "[ 4.8  1.8] 2\n",
      "[ 5.4  2.1] 2\n",
      "[ 5.6  2.4] 2\n",
      "[ 5.1  2.3] 2\n",
      "[ 5.1  1.9] 2\n",
      "[ 5.9  2.3] 2\n",
      "[ 5.7  2.5] 2\n",
      "[ 5.2  2.3] 2\n",
      "[ 5.   1.9] 2\n",
      "[ 5.2  2. ] 2\n",
      "[ 5.4  2.3] 2\n",
      "[ 5.1  1.8] 2\n"
     ]
    }
   ],
   "source": [
    "for a, b in zip(x, y):\n",
    "    print(a, b)"
   ]
  },
  {
   "cell_type": "code",
   "execution_count": 9,
   "metadata": {
    "collapsed": false
   },
   "outputs": [
    {
     "data": {
      "text/plain": [
       "array([0, 0, 0, 0, 0, 0, 0, 0, 0, 0, 0, 0, 0, 0, 0, 0, 0, 0, 0, 0, 0, 0, 0,\n",
       "       0, 0, 0, 0, 0, 0, 0, 0, 0, 0, 0, 0, 0, 0, 0, 0, 0, 0, 0, 0, 0, 0, 0,\n",
       "       0, 0, 0, 0, 1, 1, 1, 1, 1, 1, 1, 1, 1, 1, 1, 1, 1, 1, 1, 1, 1, 1, 1,\n",
       "       1, 1, 1, 1, 1, 1, 1, 1, 1, 1, 1, 1, 1, 1, 1, 1, 1, 1, 1, 1, 1, 1, 1,\n",
       "       1, 1, 1, 1, 1, 1, 1, 1, 2, 2, 2, 2, 2, 2, 2, 2, 2, 2, 2, 2, 2, 2, 2,\n",
       "       2, 2, 2, 2, 2, 2, 2, 2, 2, 2, 2, 2, 2, 2, 2, 2, 2, 2, 2, 2, 2, 2, 2,\n",
       "       2, 2, 2, 2, 2, 2, 2, 2, 2, 2, 2, 2])"
      ]
     },
     "execution_count": 9,
     "metadata": {},
     "output_type": "execute_result"
    }
   ],
   "source": [
    "y"
   ]
  },
  {
   "cell_type": "code",
   "execution_count": 17,
   "metadata": {
    "collapsed": false
   },
   "outputs": [],
   "source": [
    "# shuffling data (which is X), and target (which is Y) and adding into two seperate lists\n",
    "shuf_x = []\n",
    "shuf_y = []\n",
    "shuf_index = list(range(len(x)))\n",
    "shuffle(shuf_index)\n",
    "for i in shuf_index:\n",
    "    shuf_x.append(x[i])\n",
    "    shuf_y.append(y[i])"
   ]
  },
  {
   "cell_type": "code",
   "execution_count": 18,
   "metadata": {
    "collapsed": false
   },
   "outputs": [
    {
     "data": {
      "text/plain": [
       "30"
      ]
     },
     "execution_count": 18,
     "metadata": {},
     "output_type": "execute_result"
    }
   ],
   "source": [
    "chunk_length = int(len(shuf_x)/ 5)\n",
    "chunk_length"
   ]
  },
  {
   "cell_type": "code",
   "execution_count": 19,
   "metadata": {
    "collapsed": false
   },
   "outputs": [
    {
     "data": {
      "text/plain": [
       "30"
      ]
     },
     "execution_count": 19,
     "metadata": {},
     "output_type": "execute_result"
    }
   ],
   "source": [
    "chunk_length = int(len(shuf_y)/ 5)\n",
    "chunk_length"
   ]
  },
  {
   "cell_type": "code",
   "execution_count": 20,
   "metadata": {
    "collapsed": true
   },
   "outputs": [],
   "source": [
    "def chunks(l, num):\n",
    "    num = max(1, num)\n",
    "    return [l[i:i + num] for i in range(0, len(l), num)]"
   ]
  },
  {
   "cell_type": "code",
   "execution_count": 21,
   "metadata": {
    "collapsed": false
   },
   "outputs": [],
   "source": [
    "chunk_y = chunks(shuf_y, chunk_length)"
   ]
  },
  {
   "cell_type": "code",
   "execution_count": 22,
   "metadata": {
    "collapsed": false
   },
   "outputs": [],
   "source": [
    "chunk_x = chunks(shuf_x, chunk_length)"
   ]
  },
  {
   "cell_type": "code",
   "execution_count": 23,
   "metadata": {
    "collapsed": true
   },
   "outputs": [],
   "source": [
    "dt = tree.DecisionTreeClassifier()\n"
   ]
  },
  {
   "cell_type": "code",
   "execution_count": 30,
   "metadata": {
    "collapsed": false
   },
   "outputs": [],
   "source": [
    "Average_list = []\n",
    "\n",
    "for x, y in zip(chunk_x, chunk_y):\n",
    "     \n",
    "    #Popping first item off the list\n",
    "    x_test = chunk_x.pop(0)\n",
    "    x_train = sum(chunk_x, [])\n",
    "   \n",
    "    #Adding it back on again\n",
    "    chunk_x.append(x_test)\n",
    "   \n",
    "    #Popping first item off the list\n",
    "    y_test = chunk_y.pop(0)\n",
    "    y_train = sum(chunk_y, [])\n",
    "   \n",
    "    #Popping it back on again\n",
    "    chunk_y.append(y_test)\n",
    "   \n",
    "    #fitting training\n",
    "    dt = dt.fit(x_train,y_train)\n",
    "   \n",
    "    #Predicting\n",
    "    y_pred=dt.predict(x_test)\n",
    "   \n",
    "    #Getting the accurancy score\n",
    "Accuracy_score = accuracy_score(y_test, y_pred)\n",
    "   \n",
    "    #Creating a list of averages:\n",
    "Average_list.append(Accuracy_score)"
   ]
  },
  {
   "cell_type": "code",
   "execution_count": 31,
   "metadata": {
    "collapsed": false
   },
   "outputs": [
    {
     "name": "stdout",
     "output_type": "stream",
     "text": [
      "[0.93333333333333335]\n"
     ]
    }
   ],
   "source": [
    "print(Average_list)"
   ]
  },
  {
   "cell_type": "markdown",
   "metadata": {
    "collapsed": true
   },
   "source": [
    "### Now we create our cross validation scores"
   ]
  },
  {
   "cell_type": "code",
   "execution_count": 2,
   "metadata": {
    "collapsed": true
   },
   "outputs": [],
   "source": [
    "from sklearn.cross_validation import cross_val_score"
   ]
  },
  {
   "cell_type": "code",
   "execution_count": 7,
   "metadata": {
    "collapsed": false
   },
   "outputs": [],
   "source": [
    "iris = datasets.load_iris() "
   ]
  },
  {
   "cell_type": "code",
   "execution_count": 8,
   "metadata": {
    "collapsed": false
   },
   "outputs": [],
   "source": [
    "x = iris.data[:,2:] \n",
    "y = iris.target "
   ]
  },
  {
   "cell_type": "code",
   "execution_count": 9,
   "metadata": {
    "collapsed": true
   },
   "outputs": [],
   "source": [
    "dt = tree.DecisionTreeClassifier()"
   ]
  },
  {
   "cell_type": "code",
   "execution_count": 10,
   "metadata": {
    "collapsed": true
   },
   "outputs": [],
   "source": [
    "dt = dt.fit(x,y)"
   ]
  },
  {
   "cell_type": "code",
   "execution_count": 11,
   "metadata": {
    "collapsed": false
   },
   "outputs": [],
   "source": [
    "# http://scikit-learn.org/stable/modules/cross_validation.html#computing-cross-validated-metrics\n",
    "scores = cross_val_score(dt,x,y,cv=5) #We're passing in our values and getting an array of values back"
   ]
  },
  {
   "cell_type": "markdown",
   "metadata": {},
   "source": [
    " and dt is pass the decision tree classifier "
   ]
  },
  {
   "cell_type": "code",
   "execution_count": 12,
   "metadata": {
    "collapsed": false
   },
   "outputs": [
    {
     "data": {
      "text/plain": [
       "array([ 0.96666667,  0.96666667,  0.9       ,  0.93333333,  1.        ])"
      ]
     },
     "execution_count": 12,
     "metadata": {},
     "output_type": "execute_result"
    }
   ],
   "source": [
    "scores"
   ]
  },
  {
   "cell_type": "code",
   "execution_count": 13,
   "metadata": {
    "collapsed": true
   },
   "outputs": [],
   "source": [
    "import numpy as np"
   ]
  },
  {
   "cell_type": "code",
   "execution_count": 14,
   "metadata": {
    "collapsed": false
   },
   "outputs": [
    {
     "data": {
      "text/plain": [
       "0.95333333333333337"
      ]
     },
     "execution_count": 14,
     "metadata": {},
     "output_type": "execute_result"
    }
   ],
   "source": [
    "np.mean(scores) #here we get our average result"
   ]
  },
  {
   "cell_type": "code",
   "execution_count": null,
   "metadata": {
    "collapsed": true
   },
   "outputs": [],
   "source": []
  }
 ],
 "metadata": {
  "kernelspec": {
   "display_name": "Python 3",
   "language": "python",
   "name": "python3"
  },
  "language_info": {
   "codemirror_mode": {
    "name": "ipython",
    "version": 3
   },
   "file_extension": ".py",
   "mimetype": "text/x-python",
   "name": "python",
   "nbconvert_exporter": "python",
   "pygments_lexer": "ipython3",
   "version": "3.5.1"
  }
 },
 "nbformat": 4,
 "nbformat_minor": 0
}
